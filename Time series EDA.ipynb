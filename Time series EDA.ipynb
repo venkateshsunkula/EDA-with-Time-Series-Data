{
 "cells": [
  {
   "cell_type": "code",
   "execution_count": 2,
   "id": "7345f375",
   "metadata": {},
   "outputs": [
    {
     "name": "stdout",
     "output_type": "stream",
     "text": [
      "Requirement already satisfied: pandas-datareader in c:\\users\\venka\\anaconda3\\lib\\site-packages (0.10.0)\n",
      "Requirement already satisfied: requests>=2.19.0 in c:\\users\\venka\\anaconda3\\lib\\site-packages (from pandas-datareader) (2.27.1)\n",
      "Requirement already satisfied: lxml in c:\\users\\venka\\anaconda3\\lib\\site-packages (from pandas-datareader) (4.8.0)\n",
      "Requirement already satisfied: pandas>=0.23 in c:\\users\\venka\\anaconda3\\lib\\site-packages (from pandas-datareader) (1.4.2)\n",
      "Requirement already satisfied: pytz>=2020.1 in c:\\users\\venka\\anaconda3\\lib\\site-packages (from pandas>=0.23->pandas-datareader) (2021.3)\n",
      "Requirement already satisfied: python-dateutil>=2.8.1 in c:\\users\\venka\\anaconda3\\lib\\site-packages (from pandas>=0.23->pandas-datareader) (2.8.2)\n",
      "Requirement already satisfied: numpy>=1.18.5 in c:\\users\\venka\\anaconda3\\lib\\site-packages (from pandas>=0.23->pandas-datareader) (1.21.5)\n",
      "Requirement already satisfied: six>=1.5 in c:\\users\\venka\\anaconda3\\lib\\site-packages (from python-dateutil>=2.8.1->pandas>=0.23->pandas-datareader) (1.16.0)\n",
      "Requirement already satisfied: urllib3<1.27,>=1.21.1 in c:\\users\\venka\\anaconda3\\lib\\site-packages (from requests>=2.19.0->pandas-datareader) (1.26.9)\n",
      "Requirement already satisfied: certifi>=2017.4.17 in c:\\users\\venka\\anaconda3\\lib\\site-packages (from requests>=2.19.0->pandas-datareader) (2021.10.8)\n",
      "Requirement already satisfied: idna<4,>=2.5 in c:\\users\\venka\\anaconda3\\lib\\site-packages (from requests>=2.19.0->pandas-datareader) (3.3)\n",
      "Requirement already satisfied: charset-normalizer~=2.0.0 in c:\\users\\venka\\anaconda3\\lib\\site-packages (from requests>=2.19.0->pandas-datareader) (2.0.4)\n"
     ]
    }
   ],
   "source": [
    "## Install pandas data reader\n",
    "!pip install pandas-datareader"
   ]
  },
  {
   "cell_type": "code",
   "execution_count": 4,
   "id": "a9fe1968",
   "metadata": {},
   "outputs": [],
   "source": [
    "import pandas_datareader as pdr\n",
    "import pandas as pd\n",
    "from datetime import datetime"
   ]
  },
  {
   "cell_type": "code",
   "execution_count": 5,
   "id": "65c90f65",
   "metadata": {},
   "outputs": [],
   "source": [
    "df_tesla=pdr.get_data_yahoo('TSLA')"
   ]
  },
  {
   "cell_type": "code",
   "execution_count": 7,
   "id": "1ee8f7c4",
   "metadata": {},
   "outputs": [
    {
     "data": {
      "text/plain": [
       "pandas.core.frame.DataFrame"
      ]
     },
     "execution_count": 7,
     "metadata": {},
     "output_type": "execute_result"
    }
   ],
   "source": [
    "type(df_tesla)"
   ]
  },
  {
   "cell_type": "code",
   "execution_count": 12,
   "id": "9392d7b9",
   "metadata": {},
   "outputs": [
    {
     "data": {
      "text/html": [
       "<div>\n",
       "<style scoped>\n",
       "    .dataframe tbody tr th:only-of-type {\n",
       "        vertical-align: middle;\n",
       "    }\n",
       "\n",
       "    .dataframe tbody tr th {\n",
       "        vertical-align: top;\n",
       "    }\n",
       "\n",
       "    .dataframe thead th {\n",
       "        text-align: right;\n",
       "    }\n",
       "</style>\n",
       "<table border=\"1\" class=\"dataframe\">\n",
       "  <thead>\n",
       "    <tr style=\"text-align: right;\">\n",
       "      <th></th>\n",
       "      <th>High</th>\n",
       "      <th>Low</th>\n",
       "      <th>Open</th>\n",
       "      <th>Close</th>\n",
       "      <th>Volume</th>\n",
       "      <th>Adj Close</th>\n",
       "    </tr>\n",
       "    <tr>\n",
       "      <th>Date</th>\n",
       "      <th></th>\n",
       "      <th></th>\n",
       "      <th></th>\n",
       "      <th></th>\n",
       "      <th></th>\n",
       "      <th></th>\n",
       "    </tr>\n",
       "  </thead>\n",
       "  <tbody>\n",
       "    <tr>\n",
       "      <th>2017-10-12</th>\n",
       "      <td>23.985332</td>\n",
       "      <td>23.509333</td>\n",
       "      <td>23.530001</td>\n",
       "      <td>23.712000</td>\n",
       "      <td>61305000.0</td>\n",
       "      <td>23.712000</td>\n",
       "    </tr>\n",
       "    <tr>\n",
       "      <th>2017-10-13</th>\n",
       "      <td>23.899332</td>\n",
       "      <td>23.578667</td>\n",
       "      <td>23.798668</td>\n",
       "      <td>23.704666</td>\n",
       "      <td>53107500.0</td>\n",
       "      <td>23.704666</td>\n",
       "    </tr>\n",
       "    <tr>\n",
       "      <th>2017-10-16</th>\n",
       "      <td>23.632000</td>\n",
       "      <td>23.143999</td>\n",
       "      <td>23.584000</td>\n",
       "      <td>23.373333</td>\n",
       "      <td>80632500.0</td>\n",
       "      <td>23.373333</td>\n",
       "    </tr>\n",
       "    <tr>\n",
       "      <th>2017-10-17</th>\n",
       "      <td>23.747999</td>\n",
       "      <td>23.337999</td>\n",
       "      <td>23.393999</td>\n",
       "      <td>23.716667</td>\n",
       "      <td>49399500.0</td>\n",
       "      <td>23.716667</td>\n",
       "    </tr>\n",
       "    <tr>\n",
       "      <th>2017-10-18</th>\n",
       "      <td>24.200001</td>\n",
       "      <td>23.608667</td>\n",
       "      <td>23.731333</td>\n",
       "      <td>23.976667</td>\n",
       "      <td>74086500.0</td>\n",
       "      <td>23.976667</td>\n",
       "    </tr>\n",
       "  </tbody>\n",
       "</table>\n",
       "</div>"
      ],
      "text/plain": [
       "                 High        Low       Open      Close      Volume  Adj Close\n",
       "Date                                                                         \n",
       "2017-10-12  23.985332  23.509333  23.530001  23.712000  61305000.0  23.712000\n",
       "2017-10-13  23.899332  23.578667  23.798668  23.704666  53107500.0  23.704666\n",
       "2017-10-16  23.632000  23.143999  23.584000  23.373333  80632500.0  23.373333\n",
       "2017-10-17  23.747999  23.337999  23.393999  23.716667  49399500.0  23.716667\n",
       "2017-10-18  24.200001  23.608667  23.731333  23.976667  74086500.0  23.976667"
      ]
     },
     "execution_count": 12,
     "metadata": {},
     "output_type": "execute_result"
    }
   ],
   "source": [
    "df_tesla.head()"
   ]
  },
  {
   "cell_type": "code",
   "execution_count": 6,
   "id": "d40b299b",
   "metadata": {},
   "outputs": [
    {
     "data": {
      "text/plain": [
       "<AxesSubplot:xlabel='Date'>"
      ]
     },
     "execution_count": 6,
     "metadata": {},
     "output_type": "execute_result"
    },
    {
     "data": {
      "image/png": "[encoded data removed]",
      "text/plain": [
       "<Figure size 864x288 with 1 Axes>"
      ]
     },
     "metadata": {
      "needs_background": "light"
     },
     "output_type": "display_data"
    }
   ],
   "source": [
    "df_tesla['High'].plot(figsize=(12,4))"
   ]
  },
  {
   "cell_type": "code",
   "execution_count": 12,
   "id": "cd52b7fe",
   "metadata": {},
   "outputs": [
    {
     "data": {
      "text/plain": [
       "<AxesSubplot:xlabel='Date'>"
      ]
     },
     "execution_count": 12,
     "metadata": {},
     "output_type": "execute_result"
    },
    {
     "data": {
      "image/png": "[encoded data removed]",
      "text/plain": [
       "<Figure size 864x288 with 1 Axes>"
      ]
     },
     "metadata": {
      "needs_background": "light"
     },
     "output_type": "display_data"
    }
   ],
   "source": [
    "## x limit and y limit \n",
    "df_tesla['High'].plot(xlim=['2021-01-01','2022-09-01'],ylim=[0,500],figsize=(12,4),ls='--',c='green')"
   ]
  },
  {
   "cell_type": "code",
   "execution_count": 14,
   "id": "5e8a8d8c",
   "metadata": {},
   "outputs": [
    {
     "data": {
      "text/plain": [
       "DatetimeIndex(['2017-10-16', '2017-10-17', '2017-10-18', '2017-10-19',\n",
       "               '2017-10-20', '2017-10-23', '2017-10-24', '2017-10-25',\n",
       "               '2017-10-26', '2017-10-27',\n",
       "               ...\n",
       "               '2022-09-30', '2022-10-03', '2022-10-04', '2022-10-05',\n",
       "               '2022-10-06', '2022-10-07', '2022-10-10', '2022-10-11',\n",
       "               '2022-10-12', '2022-10-13'],\n",
       "              dtype='datetime64[ns]', name='Date', length=1258, freq=None)"
      ]
     },
     "execution_count": 14,
     "metadata": {},
     "output_type": "execute_result"
    }
   ],
   "source": [
    "df_tesla.index"
   ]
  },
  {
   "cell_type": "code",
   "execution_count": 19,
   "id": "5a56878a",
   "metadata": {},
   "outputs": [],
   "source": [
    "index=df_tesla.loc['2021-01-01':'2022-09-01'].index\n",
    "open_price=df_tesla.loc['2021-01-01':'2022-09-01']['Open']"
   ]
  },
  {
   "cell_type": "code",
   "execution_count": 20,
   "id": "4a010d30",
   "metadata": {},
   "outputs": [
    {
     "data": {
      "text/plain": [
       "Date\n",
       "2021-01-04    239.820007\n",
       "2021-01-05    241.220001\n",
       "2021-01-06    252.830002\n",
       "2021-01-07    259.209991\n",
       "2021-01-08    285.333344\n",
       "                 ...    \n",
       "2022-08-26    297.429993\n",
       "2022-08-29    282.829987\n",
       "2022-08-30    287.869995\n",
       "2022-08-31    280.619995\n",
       "2022-09-01    272.579987\n",
       "Name: Open, Length: 420, dtype: float64"
      ]
     },
     "execution_count": 20,
     "metadata": {},
     "output_type": "execute_result"
    }
   ],
   "source": [
    "open_price"
   ]
  },
  {
   "cell_type": "code",
   "execution_count": 21,
   "id": "9a250636",
   "metadata": {},
   "outputs": [
    {
     "data": {
      "text/plain": [
       "DatetimeIndex(['2021-01-04', '2021-01-05', '2021-01-06', '2021-01-07',\n",
       "               '2021-01-08', '2021-01-11', '2021-01-12', '2021-01-13',\n",
       "               '2021-01-14', '2021-01-15',\n",
       "               ...\n",
       "               '2022-08-19', '2022-08-22', '2022-08-23', '2022-08-24',\n",
       "               '2022-08-25', '2022-08-26', '2022-08-29', '2022-08-30',\n",
       "               '2022-08-31', '2022-09-01'],\n",
       "              dtype='datetime64[ns]', name='Date', length=420, freq=None)"
      ]
     },
     "execution_count": 21,
     "metadata": {},
     "output_type": "execute_result"
    }
   ],
   "source": [
    "index"
   ]
  },
  {
   "cell_type": "code",
   "execution_count": 23,
   "id": "67aeb292",
   "metadata": {},
   "outputs": [],
   "source": [
    "import matplotlib.pyplot as plt\n",
    "%matplotlib inline"
   ]
  },
  {
   "cell_type": "code",
   "execution_count": 24,
   "id": "ee15b6b1",
   "metadata": {},
   "outputs": [
    {
     "data": {
      "text/plain": [
       "[<matplotlib.lines.Line2D at 0x1d2eb646460>]"
      ]
     },
     "execution_count": 24,
     "metadata": {},
     "output_type": "execute_result"
    },
    {
     "data": {
      "image/png": "[encoded data removed]",
      "text/plain": [
       "<Figure size 432x288 with 1 Axes>"
      ]
     },
     "metadata": {
      "needs_background": "light"
     },
     "output_type": "display_data"
    }
   ],
   "source": [
    "figure,axis=plt.subplots()\n",
    "plt.tight_layout()\n",
    "## preventing overlapping\n",
    "figure.autofmt_xdate()\n",
    "axis.plot(index,open_price)"
   ]
  },
  {
   "cell_type": "code",
   "execution_count": 25,
   "id": "cd21789d",
   "metadata": {},
   "outputs": [],
   "source": [
    "## Date time index"
   ]
  },
  {
   "cell_type": "code",
   "execution_count": 28,
   "id": "f7bd248d",
   "metadata": {},
   "outputs": [],
   "source": [
    "df_tesla=df_tesla.reset_index()"
   ]
  },
  {
   "cell_type": "code",
   "execution_count": 27,
   "id": "01337449",
   "metadata": {},
   "outputs": [
    {
     "name": "stdout",
     "output_type": "stream",
     "text": [
      "<class 'pandas.core.frame.DataFrame'>\n",
      "DatetimeIndex: 1258 entries, 2017-10-16 to 2022-10-13\n",
      "Data columns (total 6 columns):\n",
      " #   Column     Non-Null Count  Dtype  \n",
      "---  ------     --------------  -----  \n",
      " 0   High       1258 non-null   float64\n",
      " 1   Low        1258 non-null   float64\n",
      " 2   Open       1258 non-null   float64\n",
      " 3   Close      1258 non-null   float64\n",
      " 4   Volume     1258 non-null   float64\n",
      " 5   Adj Close  1258 non-null   float64\n",
      "dtypes: float64(6)\n",
      "memory usage: 101.1 KB\n"
     ]
    }
   ],
   "source": [
    "df_tesla.info()"
   ]
  },
  {
   "cell_type": "code",
   "execution_count": 33,
   "id": "9ccff68d",
   "metadata": {},
   "outputs": [],
   "source": [
    "df_tesla=df_tesla.set_index(['Date'],drop=True)"
   ]
  },
  {
   "cell_type": "code",
   "execution_count": 34,
   "id": "08b1531f",
   "metadata": {},
   "outputs": [
    {
     "data": {
      "text/html": [
       "<div>\n",
       "<style scoped>\n",
       "    .dataframe tbody tr th:only-of-type {\n",
       "        vertical-align: middle;\n",
       "    }\n",
       "\n",
       "    .dataframe tbody tr th {\n",
       "        vertical-align: top;\n",
       "    }\n",
       "\n",
       "    .dataframe thead th {\n",
       "        text-align: right;\n",
       "    }\n",
       "</style>\n",
       "<table border=\"1\" class=\"dataframe\">\n",
       "  <thead>\n",
       "    <tr style=\"text-align: right;\">\n",
       "      <th></th>\n",
       "      <th>High</th>\n",
       "      <th>Low</th>\n",
       "      <th>Open</th>\n",
       "      <th>Close</th>\n",
       "      <th>Volume</th>\n",
       "      <th>Adj Close</th>\n",
       "    </tr>\n",
       "    <tr>\n",
       "      <th>Date</th>\n",
       "      <th></th>\n",
       "      <th></th>\n",
       "      <th></th>\n",
       "      <th></th>\n",
       "      <th></th>\n",
       "      <th></th>\n",
       "    </tr>\n",
       "  </thead>\n",
       "  <tbody>\n",
       "    <tr>\n",
       "      <th>2017-10-16</th>\n",
       "      <td>23.632000</td>\n",
       "      <td>23.143999</td>\n",
       "      <td>23.584000</td>\n",
       "      <td>23.373333</td>\n",
       "      <td>80632500.0</td>\n",
       "      <td>23.373333</td>\n",
       "    </tr>\n",
       "    <tr>\n",
       "      <th>2017-10-17</th>\n",
       "      <td>23.747999</td>\n",
       "      <td>23.337999</td>\n",
       "      <td>23.393999</td>\n",
       "      <td>23.716667</td>\n",
       "      <td>49399500.0</td>\n",
       "      <td>23.716667</td>\n",
       "    </tr>\n",
       "    <tr>\n",
       "      <th>2017-10-18</th>\n",
       "      <td>24.200001</td>\n",
       "      <td>23.608667</td>\n",
       "      <td>23.731333</td>\n",
       "      <td>23.976667</td>\n",
       "      <td>74086500.0</td>\n",
       "      <td>23.976667</td>\n",
       "    </tr>\n",
       "    <tr>\n",
       "      <th>2017-10-19</th>\n",
       "      <td>23.809999</td>\n",
       "      <td>23.213333</td>\n",
       "      <td>23.704000</td>\n",
       "      <td>23.454000</td>\n",
       "      <td>75927000.0</td>\n",
       "      <td>23.454000</td>\n",
       "    </tr>\n",
       "    <tr>\n",
       "      <th>2017-10-20</th>\n",
       "      <td>23.636667</td>\n",
       "      <td>22.955999</td>\n",
       "      <td>23.512667</td>\n",
       "      <td>23.006666</td>\n",
       "      <td>73956000.0</td>\n",
       "      <td>23.006666</td>\n",
       "    </tr>\n",
       "  </tbody>\n",
       "</table>\n",
       "</div>"
      ],
      "text/plain": [
       "                 High        Low       Open      Close      Volume  Adj Close\n",
       "Date                                                                         \n",
       "2017-10-16  23.632000  23.143999  23.584000  23.373333  80632500.0  23.373333\n",
       "2017-10-17  23.747999  23.337999  23.393999  23.716667  49399500.0  23.716667\n",
       "2017-10-18  24.200001  23.608667  23.731333  23.976667  74086500.0  23.976667\n",
       "2017-10-19  23.809999  23.213333  23.704000  23.454000  75927000.0  23.454000\n",
       "2017-10-20  23.636667  22.955999  23.512667  23.006666  73956000.0  23.006666"
      ]
     },
     "execution_count": 34,
     "metadata": {},
     "output_type": "execute_result"
    }
   ],
   "source": [
    "df_tesla.head()"
   ]
  },
  {
   "cell_type": "code",
   "execution_count": 35,
   "id": "d5d2f9ab",
   "metadata": {},
   "outputs": [],
   "source": [
    "## Datetime\n",
    "from datetime import datetime"
   ]
  },
  {
   "cell_type": "code",
   "execution_count": 39,
   "id": "7fca5db3",
   "metadata": {},
   "outputs": [
    {
     "data": {
      "text/plain": [
       "datetime.datetime(2021, 5, 2, 0, 0)"
      ]
     },
     "execution_count": 39,
     "metadata": {},
     "output_type": "execute_result"
    }
   ],
   "source": [
    "datetime(2021,5,2)"
   ]
  },
  {
   "cell_type": "code",
   "execution_count": 42,
   "id": "5ed1dfc5",
   "metadata": {},
   "outputs": [
    {
     "data": {
      "text/plain": [
       "datetime.datetime(2022, 10, 14, 10, 22, 43, 181482)"
      ]
     },
     "execution_count": 42,
     "metadata": {},
     "output_type": "execute_result"
    }
   ],
   "source": [
    "datetime.now()"
   ]
  },
  {
   "cell_type": "code",
   "execution_count": 45,
   "id": "67a8776c",
   "metadata": {},
   "outputs": [],
   "source": [
    "date=datetime(2021,5,2)"
   ]
  },
  {
   "cell_type": "code",
   "execution_count": 46,
   "id": "97342aa4",
   "metadata": {},
   "outputs": [
    {
     "data": {
      "text/plain": [
       "datetime.datetime(2021, 5, 2, 0, 0)"
      ]
     },
     "execution_count": 46,
     "metadata": {},
     "output_type": "execute_result"
    }
   ],
   "source": [
    "date"
   ]
  },
  {
   "cell_type": "code",
   "execution_count": 47,
   "id": "4ac64675",
   "metadata": {},
   "outputs": [
    {
     "data": {
      "text/plain": [
       "2"
      ]
     },
     "execution_count": 47,
     "metadata": {},
     "output_type": "execute_result"
    }
   ],
   "source": [
    "date.day"
   ]
  },
  {
   "cell_type": "code",
   "execution_count": 50,
   "id": "32a480f5",
   "metadata": {},
   "outputs": [
    {
     "data": {
      "text/plain": [
       "6"
      ]
     },
     "execution_count": 50,
     "metadata": {},
     "output_type": "execute_result"
    }
   ],
   "source": [
    "date.weekday()"
   ]
  },
  {
   "cell_type": "code",
   "execution_count": 52,
   "id": "fb1e8dbf",
   "metadata": {},
   "outputs": [
    {
     "data": {
      "text/plain": [
       "2021"
      ]
     },
     "execution_count": 52,
     "metadata": {},
     "output_type": "execute_result"
    }
   ],
   "source": [
    "date.year"
   ]
  },
  {
   "cell_type": "markdown",
   "id": "18036594",
   "metadata": {},
   "source": [
    "## Time Resampling"
   ]
  },
  {
   "cell_type": "code",
   "execution_count": 53,
   "id": "9f49eb4a",
   "metadata": {},
   "outputs": [
    {
     "data": {
      "text/html": [
       "<div>\n",
       "<style scoped>\n",
       "    .dataframe tbody tr th:only-of-type {\n",
       "        vertical-align: middle;\n",
       "    }\n",
       "\n",
       "    .dataframe tbody tr th {\n",
       "        vertical-align: top;\n",
       "    }\n",
       "\n",
       "    .dataframe thead th {\n",
       "        text-align: right;\n",
       "    }\n",
       "</style>\n",
       "<table border=\"1\" class=\"dataframe\">\n",
       "  <thead>\n",
       "    <tr style=\"text-align: right;\">\n",
       "      <th></th>\n",
       "      <th>High</th>\n",
       "      <th>Low</th>\n",
       "      <th>Open</th>\n",
       "      <th>Close</th>\n",
       "      <th>Volume</th>\n",
       "      <th>Adj Close</th>\n",
       "    </tr>\n",
       "    <tr>\n",
       "      <th>Date</th>\n",
       "      <th></th>\n",
       "      <th></th>\n",
       "      <th></th>\n",
       "      <th></th>\n",
       "      <th></th>\n",
       "      <th></th>\n",
       "    </tr>\n",
       "  </thead>\n",
       "  <tbody>\n",
       "    <tr>\n",
       "      <th>2017-10-16</th>\n",
       "      <td>23.632000</td>\n",
       "      <td>23.143999</td>\n",
       "      <td>23.584000</td>\n",
       "      <td>23.373333</td>\n",
       "      <td>80632500.0</td>\n",
       "      <td>23.373333</td>\n",
       "    </tr>\n",
       "    <tr>\n",
       "      <th>2017-10-17</th>\n",
       "      <td>23.747999</td>\n",
       "      <td>23.337999</td>\n",
       "      <td>23.393999</td>\n",
       "      <td>23.716667</td>\n",
       "      <td>49399500.0</td>\n",
       "      <td>23.716667</td>\n",
       "    </tr>\n",
       "    <tr>\n",
       "      <th>2017-10-18</th>\n",
       "      <td>24.200001</td>\n",
       "      <td>23.608667</td>\n",
       "      <td>23.731333</td>\n",
       "      <td>23.976667</td>\n",
       "      <td>74086500.0</td>\n",
       "      <td>23.976667</td>\n",
       "    </tr>\n",
       "    <tr>\n",
       "      <th>2017-10-19</th>\n",
       "      <td>23.809999</td>\n",
       "      <td>23.213333</td>\n",
       "      <td>23.704000</td>\n",
       "      <td>23.454000</td>\n",
       "      <td>75927000.0</td>\n",
       "      <td>23.454000</td>\n",
       "    </tr>\n",
       "    <tr>\n",
       "      <th>2017-10-20</th>\n",
       "      <td>23.636667</td>\n",
       "      <td>22.955999</td>\n",
       "      <td>23.512667</td>\n",
       "      <td>23.006666</td>\n",
       "      <td>73956000.0</td>\n",
       "      <td>23.006666</td>\n",
       "    </tr>\n",
       "  </tbody>\n",
       "</table>\n",
       "</div>"
      ],
      "text/plain": [
       "                 High        Low       Open      Close      Volume  Adj Close\n",
       "Date                                                                         \n",
       "2017-10-16  23.632000  23.143999  23.584000  23.373333  80632500.0  23.373333\n",
       "2017-10-17  23.747999  23.337999  23.393999  23.716667  49399500.0  23.716667\n",
       "2017-10-18  24.200001  23.608667  23.731333  23.976667  74086500.0  23.976667\n",
       "2017-10-19  23.809999  23.213333  23.704000  23.454000  75927000.0  23.454000\n",
       "2017-10-20  23.636667  22.955999  23.512667  23.006666  73956000.0  23.006666"
      ]
     },
     "execution_count": 53,
     "metadata": {},
     "output_type": "execute_result"
    }
   ],
   "source": [
    "df_tesla.head()"
   ]
  },
  {
   "cell_type": "code",
   "execution_count": 54,
   "id": "0fc497f8",
   "metadata": {},
   "outputs": [
    {
     "data": {
      "text/html": [
       "<div>\n",
       "<style scoped>\n",
       "    .dataframe tbody tr th:only-of-type {\n",
       "        vertical-align: middle;\n",
       "    }\n",
       "\n",
       "    .dataframe tbody tr th {\n",
       "        vertical-align: top;\n",
       "    }\n",
       "\n",
       "    .dataframe thead th {\n",
       "        text-align: right;\n",
       "    }\n",
       "</style>\n",
       "<table border=\"1\" class=\"dataframe\">\n",
       "  <thead>\n",
       "    <tr style=\"text-align: right;\">\n",
       "      <th></th>\n",
       "      <th>High</th>\n",
       "      <th>Low</th>\n",
       "      <th>Open</th>\n",
       "      <th>Close</th>\n",
       "      <th>Volume</th>\n",
       "      <th>Adj Close</th>\n",
       "    </tr>\n",
       "    <tr>\n",
       "      <th>Date</th>\n",
       "      <th></th>\n",
       "      <th></th>\n",
       "      <th></th>\n",
       "      <th></th>\n",
       "      <th></th>\n",
       "      <th></th>\n",
       "    </tr>\n",
       "  </thead>\n",
       "  <tbody>\n",
       "    <tr>\n",
       "      <th>2017-12-31</th>\n",
       "      <td>20.297333</td>\n",
       "      <td>19.508667</td>\n",
       "      <td>19.966667</td>\n",
       "      <td>19.950666</td>\n",
       "      <td>48661500.0</td>\n",
       "      <td>19.950666</td>\n",
       "    </tr>\n",
       "    <tr>\n",
       "      <th>2018-12-31</th>\n",
       "      <td>17.355333</td>\n",
       "      <td>16.306000</td>\n",
       "      <td>16.851999</td>\n",
       "      <td>16.704000</td>\n",
       "      <td>46210500.0</td>\n",
       "      <td>16.704000</td>\n",
       "    </tr>\n",
       "    <tr>\n",
       "      <th>2019-12-31</th>\n",
       "      <td>12.445333</td>\n",
       "      <td>11.799333</td>\n",
       "      <td>12.073333</td>\n",
       "      <td>11.931333</td>\n",
       "      <td>36984000.0</td>\n",
       "      <td>11.931333</td>\n",
       "    </tr>\n",
       "    <tr>\n",
       "      <th>2020-12-31</th>\n",
       "      <td>26.990667</td>\n",
       "      <td>23.367332</td>\n",
       "      <td>24.980000</td>\n",
       "      <td>24.081333</td>\n",
       "      <td>52073100.0</td>\n",
       "      <td>24.081333</td>\n",
       "    </tr>\n",
       "    <tr>\n",
       "      <th>2021-12-31</th>\n",
       "      <td>188.736664</td>\n",
       "      <td>179.830002</td>\n",
       "      <td>184.183334</td>\n",
       "      <td>187.666672</td>\n",
       "      <td>29401800.0</td>\n",
       "      <td>187.666672</td>\n",
       "    </tr>\n",
       "    <tr>\n",
       "      <th>2022-12-31</th>\n",
       "      <td>217.973328</td>\n",
       "      <td>206.220001</td>\n",
       "      <td>207.949997</td>\n",
       "      <td>209.386673</td>\n",
       "      <td>41864700.0</td>\n",
       "      <td>209.386673</td>\n",
       "    </tr>\n",
       "  </tbody>\n",
       "</table>\n",
       "</div>"
      ],
      "text/plain": [
       "                  High         Low        Open       Close      Volume  \\\n",
       "Date                                                                     \n",
       "2017-12-31   20.297333   19.508667   19.966667   19.950666  48661500.0   \n",
       "2018-12-31   17.355333   16.306000   16.851999   16.704000  46210500.0   \n",
       "2019-12-31   12.445333   11.799333   12.073333   11.931333  36984000.0   \n",
       "2020-12-31   26.990667   23.367332   24.980000   24.081333  52073100.0   \n",
       "2021-12-31  188.736664  179.830002  184.183334  187.666672  29401800.0   \n",
       "2022-12-31  217.973328  206.220001  207.949997  209.386673  41864700.0   \n",
       "\n",
       "             Adj Close  \n",
       "Date                    \n",
       "2017-12-31   19.950666  \n",
       "2018-12-31   16.704000  \n",
       "2019-12-31   11.931333  \n",
       "2020-12-31   24.081333  \n",
       "2021-12-31  187.666672  \n",
       "2022-12-31  209.386673  "
      ]
     },
     "execution_count": 54,
     "metadata": {},
     "output_type": "execute_result"
    }
   ],
   "source": [
    "df_tesla.resample(rule='A').min()"
   ]
  },
  {
   "cell_type": "code",
   "execution_count": 55,
   "id": "212a2576",
   "metadata": {},
   "outputs": [
    {
     "data": {
      "text/html": [
       "<div>\n",
       "<style scoped>\n",
       "    .dataframe tbody tr th:only-of-type {\n",
       "        vertical-align: middle;\n",
       "    }\n",
       "\n",
       "    .dataframe tbody tr th {\n",
       "        vertical-align: top;\n",
       "    }\n",
       "\n",
       "    .dataframe thead th {\n",
       "        text-align: right;\n",
       "    }\n",
       "</style>\n",
       "<table border=\"1\" class=\"dataframe\">\n",
       "  <thead>\n",
       "    <tr style=\"text-align: right;\">\n",
       "      <th></th>\n",
       "      <th>High</th>\n",
       "      <th>Low</th>\n",
       "      <th>Open</th>\n",
       "      <th>Close</th>\n",
       "      <th>Volume</th>\n",
       "      <th>Adj Close</th>\n",
       "    </tr>\n",
       "    <tr>\n",
       "      <th>Date</th>\n",
       "      <th></th>\n",
       "      <th></th>\n",
       "      <th></th>\n",
       "      <th></th>\n",
       "      <th></th>\n",
       "      <th></th>\n",
       "    </tr>\n",
       "  </thead>\n",
       "  <tbody>\n",
       "    <tr>\n",
       "      <th>2017-12-31</th>\n",
       "      <td>24.200001</td>\n",
       "      <td>23.608667</td>\n",
       "      <td>23.731333</td>\n",
       "      <td>23.976667</td>\n",
       "      <td>296871000.0</td>\n",
       "      <td>23.976667</td>\n",
       "    </tr>\n",
       "    <tr>\n",
       "      <th>2018-12-31</th>\n",
       "      <td>25.830667</td>\n",
       "      <td>24.474667</td>\n",
       "      <td>25.000000</td>\n",
       "      <td>25.304667</td>\n",
       "      <td>504745500.0</td>\n",
       "      <td>25.304667</td>\n",
       "    </tr>\n",
       "    <tr>\n",
       "      <th>2019-12-31</th>\n",
       "      <td>29.020666</td>\n",
       "      <td>28.423332</td>\n",
       "      <td>29.000000</td>\n",
       "      <td>28.729334</td>\n",
       "      <td>450091500.0</td>\n",
       "      <td>28.729334</td>\n",
       "    </tr>\n",
       "    <tr>\n",
       "      <th>2020-12-31</th>\n",
       "      <td>239.573334</td>\n",
       "      <td>230.373337</td>\n",
       "      <td>233.330002</td>\n",
       "      <td>235.223328</td>\n",
       "      <td>914082000.0</td>\n",
       "      <td>235.223328</td>\n",
       "    </tr>\n",
       "    <tr>\n",
       "      <th>2021-12-31</th>\n",
       "      <td>414.496674</td>\n",
       "      <td>405.666656</td>\n",
       "      <td>411.470001</td>\n",
       "      <td>409.970001</td>\n",
       "      <td>268189500.0</td>\n",
       "      <td>409.970001</td>\n",
       "    </tr>\n",
       "    <tr>\n",
       "      <th>2022-12-31</th>\n",
       "      <td>402.666656</td>\n",
       "      <td>378.679993</td>\n",
       "      <td>396.516663</td>\n",
       "      <td>399.926666</td>\n",
       "      <td>151565700.0</td>\n",
       "      <td>399.926666</td>\n",
       "    </tr>\n",
       "  </tbody>\n",
       "</table>\n",
       "</div>"
      ],
      "text/plain": [
       "                  High         Low        Open       Close       Volume  \\\n",
       "Date                                                                      \n",
       "2017-12-31   24.200001   23.608667   23.731333   23.976667  296871000.0   \n",
       "2018-12-31   25.830667   24.474667   25.000000   25.304667  504745500.0   \n",
       "2019-12-31   29.020666   28.423332   29.000000   28.729334  450091500.0   \n",
       "2020-12-31  239.573334  230.373337  233.330002  235.223328  914082000.0   \n",
       "2021-12-31  414.496674  405.666656  411.470001  409.970001  268189500.0   \n",
       "2022-12-31  402.666656  378.679993  396.516663  399.926666  151565700.0   \n",
       "\n",
       "             Adj Close  \n",
       "Date                    \n",
       "2017-12-31   23.976667  \n",
       "2018-12-31   25.304667  \n",
       "2019-12-31   28.729334  \n",
       "2020-12-31  235.223328  \n",
       "2021-12-31  409.970001  \n",
       "2022-12-31  399.926666  "
      ]
     },
     "execution_count": 55,
     "metadata": {},
     "output_type": "execute_result"
    }
   ],
   "source": [
    "df_tesla.resample(rule='A').max()"
   ]
  },
  {
   "cell_type": "code",
   "execution_count": 56,
   "id": "215b393b",
   "metadata": {},
   "outputs": [
    {
     "data": {
      "text/plain": [
       "<AxesSubplot:xlabel='Date'>"
      ]
     },
     "execution_count": 56,
     "metadata": {},
     "output_type": "execute_result"
    },
    {
     "data": {
      "image/png": "[encoded data removed]",
      "text/plain": [
       "<Figure size 432x288 with 1 Axes>"
      ]
     },
     "metadata": {
      "needs_background": "light"
     },
     "output_type": "display_data"
    }
   ],
   "source": [
    "## year end frequency\n",
    "df_tesla.resample(rule='A').max()['Open'].plot()"
   ]
  },
  {
   "cell_type": "code",
   "execution_count": 60,
   "id": "49e4de6e",
   "metadata": {},
   "outputs": [
    {
     "data": {
      "text/plain": [
       "<AxesSubplot:xlabel='Date'>"
      ]
     },
     "execution_count": 60,
     "metadata": {},
     "output_type": "execute_result"
    },
    {
     "data": {
      "image/png": "[encoded data removed]",
      "text/plain": [
       "<Figure size 432x288 with 1 Axes>"
      ]
     },
     "metadata": {
      "needs_background": "light"
     },
     "output_type": "display_data"
    }
   ],
   "source": [
    "## quarterly start frequency\n",
    "df_tesla.resample(rule='QS').max()['High'].plot()"
   ]
  },
  {
   "cell_type": "code",
   "execution_count": 61,
   "id": "5b81f0f8",
   "metadata": {},
   "outputs": [
    {
     "data": {
      "text/html": [
       "<div>\n",
       "<style scoped>\n",
       "    .dataframe tbody tr th:only-of-type {\n",
       "        vertical-align: middle;\n",
       "    }\n",
       "\n",
       "    .dataframe tbody tr th {\n",
       "        vertical-align: top;\n",
       "    }\n",
       "\n",
       "    .dataframe thead th {\n",
       "        text-align: right;\n",
       "    }\n",
       "</style>\n",
       "<table border=\"1\" class=\"dataframe\">\n",
       "  <thead>\n",
       "    <tr style=\"text-align: right;\">\n",
       "      <th></th>\n",
       "      <th>High</th>\n",
       "      <th>Low</th>\n",
       "      <th>Open</th>\n",
       "      <th>Close</th>\n",
       "      <th>Volume</th>\n",
       "      <th>Adj Close</th>\n",
       "    </tr>\n",
       "    <tr>\n",
       "      <th>Date</th>\n",
       "      <th></th>\n",
       "      <th></th>\n",
       "      <th></th>\n",
       "      <th></th>\n",
       "      <th></th>\n",
       "      <th></th>\n",
       "    </tr>\n",
       "  </thead>\n",
       "  <tbody>\n",
       "    <tr>\n",
       "      <th>2017-12-29</th>\n",
       "      <td>24.200001</td>\n",
       "      <td>23.608667</td>\n",
       "      <td>23.731333</td>\n",
       "      <td>23.976667</td>\n",
       "      <td>296871000.0</td>\n",
       "      <td>23.976667</td>\n",
       "    </tr>\n",
       "    <tr>\n",
       "      <th>2018-12-31</th>\n",
       "      <td>25.830667</td>\n",
       "      <td>24.474667</td>\n",
       "      <td>25.000000</td>\n",
       "      <td>25.304667</td>\n",
       "      <td>504745500.0</td>\n",
       "      <td>25.304667</td>\n",
       "    </tr>\n",
       "    <tr>\n",
       "      <th>2019-12-31</th>\n",
       "      <td>29.020666</td>\n",
       "      <td>28.423332</td>\n",
       "      <td>29.000000</td>\n",
       "      <td>28.729334</td>\n",
       "      <td>450091500.0</td>\n",
       "      <td>28.729334</td>\n",
       "    </tr>\n",
       "    <tr>\n",
       "      <th>2020-12-31</th>\n",
       "      <td>239.573334</td>\n",
       "      <td>230.373337</td>\n",
       "      <td>233.330002</td>\n",
       "      <td>235.223328</td>\n",
       "      <td>914082000.0</td>\n",
       "      <td>235.223328</td>\n",
       "    </tr>\n",
       "    <tr>\n",
       "      <th>2021-12-31</th>\n",
       "      <td>414.496674</td>\n",
       "      <td>405.666656</td>\n",
       "      <td>411.470001</td>\n",
       "      <td>409.970001</td>\n",
       "      <td>268189500.0</td>\n",
       "      <td>409.970001</td>\n",
       "    </tr>\n",
       "    <tr>\n",
       "      <th>2022-12-30</th>\n",
       "      <td>402.666656</td>\n",
       "      <td>378.679993</td>\n",
       "      <td>396.516663</td>\n",
       "      <td>399.926666</td>\n",
       "      <td>151565700.0</td>\n",
       "      <td>399.926666</td>\n",
       "    </tr>\n",
       "  </tbody>\n",
       "</table>\n",
       "</div>"
      ],
      "text/plain": [
       "                  High         Low        Open       Close       Volume  \\\n",
       "Date                                                                      \n",
       "2017-12-29   24.200001   23.608667   23.731333   23.976667  296871000.0   \n",
       "2018-12-31   25.830667   24.474667   25.000000   25.304667  504745500.0   \n",
       "2019-12-31   29.020666   28.423332   29.000000   28.729334  450091500.0   \n",
       "2020-12-31  239.573334  230.373337  233.330002  235.223328  914082000.0   \n",
       "2021-12-31  414.496674  405.666656  411.470001  409.970001  268189500.0   \n",
       "2022-12-30  402.666656  378.679993  396.516663  399.926666  151565700.0   \n",
       "\n",
       "             Adj Close  \n",
       "Date                    \n",
       "2017-12-29   23.976667  \n",
       "2018-12-31   25.304667  \n",
       "2019-12-31   28.729334  \n",
       "2020-12-31  235.223328  \n",
       "2021-12-31  409.970001  \n",
       "2022-12-30  399.926666  "
      ]
     },
     "execution_count": 61,
     "metadata": {},
     "output_type": "execute_result"
    }
   ],
   "source": [
    "## Business end frequency\n",
    "df_tesla.resample(rule='BA').max()"
   ]
  },
  {
   "cell_type": "code",
   "execution_count": 66,
   "id": "913d25c5",
   "metadata": {},
   "outputs": [
    {
     "data": {
      "text/plain": [
       "<AxesSubplot:xlabel='Date'>"
      ]
     },
     "execution_count": 66,
     "metadata": {},
     "output_type": "execute_result"
    },
    {
     "data": {
      "image/png": "[encoded data removed]",
      "text/plain": [
       "<Figure size 432x288 with 1 Axes>"
      ]
     },
     "metadata": {
      "needs_background": "light"
     },
     "output_type": "display_data"
    }
   ],
   "source": [
    "## plotting data\n",
    "df_tesla['Open'].resample(rule='A').mean().plot(kind='bar')"
   ]
  },
  {
   "cell_type": "code",
   "execution_count": 70,
   "id": "2d57d385",
   "metadata": {},
   "outputs": [
    {
     "data": {
      "text/plain": [
       "<AxesSubplot:xlabel='Date'>"
      ]
     },
     "execution_count": 70,
     "metadata": {},
     "output_type": "execute_result"
    },
    {
     "data": {
      "image/png": "[encoded data removed]",
      "text/plain": [
       "<Figure size 1080x432 with 1 Axes>"
      ]
     },
     "metadata": {
      "needs_background": "light"
     },
     "output_type": "display_data"
    }
   ],
   "source": [
    "df_tesla['Open'].resample(rule='M').max().plot(kind='bar',figsize=(15,6))"
   ]
  },
  {
   "cell_type": "markdown",
   "id": "14eb96f0",
   "metadata": {},
   "source": [
    "## Rolling"
   ]
  },
  {
   "cell_type": "code",
   "execution_count": 73,
   "id": "72950099",
   "metadata": {},
   "outputs": [
    {
     "data": {
      "text/plain": [
       "Date\n",
       "2017-10-16          NaN\n",
       "2017-10-17          NaN\n",
       "2017-10-18          NaN\n",
       "2017-10-19          NaN\n",
       "2017-10-20          NaN\n",
       "2017-10-23          NaN\n",
       "2017-10-24          NaN\n",
       "2017-10-25          NaN\n",
       "2017-10-26          NaN\n",
       "2017-10-27    24.200001\n",
       "2017-10-30    24.200001\n",
       "2017-10-31    24.200001\n",
       "2017-11-01    23.809999\n",
       "2017-11-02    23.636667\n",
       "2017-11-03    23.330000\n",
       "Name: High, dtype: float64"
      ]
     },
     "execution_count": 73,
     "metadata": {},
     "output_type": "execute_result"
    }
   ],
   "source": [
    "df_tesla['High'].rolling(10).max().head(15)"
   ]
  },
  {
   "cell_type": "code",
   "execution_count": 81,
   "id": "ff9aa635",
   "metadata": {},
   "outputs": [],
   "source": [
    "df_tesla['open:30 days rolling']=df_tesla['Open'].rolling(30).max()"
   ]
  },
  {
   "cell_type": "code",
   "execution_count": 83,
   "id": "845d85a8",
   "metadata": {},
   "outputs": [
    {
     "data": {
      "text/html": [
       "<div>\n",
       "<style scoped>\n",
       "    .dataframe tbody tr th:only-of-type {\n",
       "        vertical-align: middle;\n",
       "    }\n",
       "\n",
       "    .dataframe tbody tr th {\n",
       "        vertical-align: top;\n",
       "    }\n",
       "\n",
       "    .dataframe thead th {\n",
       "        text-align: right;\n",
       "    }\n",
       "</style>\n",
       "<table border=\"1\" class=\"dataframe\">\n",
       "  <thead>\n",
       "    <tr style=\"text-align: right;\">\n",
       "      <th></th>\n",
       "      <th>High</th>\n",
       "      <th>Low</th>\n",
       "      <th>Open</th>\n",
       "      <th>Close</th>\n",
       "      <th>Volume</th>\n",
       "      <th>Adj Close</th>\n",
       "      <th>open:30 days rolling</th>\n",
       "    </tr>\n",
       "    <tr>\n",
       "      <th>Date</th>\n",
       "      <th></th>\n",
       "      <th></th>\n",
       "      <th></th>\n",
       "      <th></th>\n",
       "      <th></th>\n",
       "      <th></th>\n",
       "      <th></th>\n",
       "    </tr>\n",
       "  </thead>\n",
       "  <tbody>\n",
       "    <tr>\n",
       "      <th>2017-10-16</th>\n",
       "      <td>23.632000</td>\n",
       "      <td>23.143999</td>\n",
       "      <td>23.584000</td>\n",
       "      <td>23.373333</td>\n",
       "      <td>80632500.0</td>\n",
       "      <td>23.373333</td>\n",
       "      <td>NaN</td>\n",
       "    </tr>\n",
       "    <tr>\n",
       "      <th>2017-10-17</th>\n",
       "      <td>23.747999</td>\n",
       "      <td>23.337999</td>\n",
       "      <td>23.393999</td>\n",
       "      <td>23.716667</td>\n",
       "      <td>49399500.0</td>\n",
       "      <td>23.716667</td>\n",
       "      <td>NaN</td>\n",
       "    </tr>\n",
       "    <tr>\n",
       "      <th>2017-10-18</th>\n",
       "      <td>24.200001</td>\n",
       "      <td>23.608667</td>\n",
       "      <td>23.731333</td>\n",
       "      <td>23.976667</td>\n",
       "      <td>74086500.0</td>\n",
       "      <td>23.976667</td>\n",
       "      <td>NaN</td>\n",
       "    </tr>\n",
       "    <tr>\n",
       "      <th>2017-10-19</th>\n",
       "      <td>23.809999</td>\n",
       "      <td>23.213333</td>\n",
       "      <td>23.704000</td>\n",
       "      <td>23.454000</td>\n",
       "      <td>75927000.0</td>\n",
       "      <td>23.454000</td>\n",
       "      <td>NaN</td>\n",
       "    </tr>\n",
       "    <tr>\n",
       "      <th>2017-10-20</th>\n",
       "      <td>23.636667</td>\n",
       "      <td>22.955999</td>\n",
       "      <td>23.512667</td>\n",
       "      <td>23.006666</td>\n",
       "      <td>73956000.0</td>\n",
       "      <td>23.006666</td>\n",
       "      <td>NaN</td>\n",
       "    </tr>\n",
       "    <tr>\n",
       "      <th>2017-10-23</th>\n",
       "      <td>23.330000</td>\n",
       "      <td>22.416668</td>\n",
       "      <td>23.325333</td>\n",
       "      <td>22.468000</td>\n",
       "      <td>86209500.0</td>\n",
       "      <td>22.468000</td>\n",
       "      <td>NaN</td>\n",
       "    </tr>\n",
       "    <tr>\n",
       "      <th>2017-10-24</th>\n",
       "      <td>22.853333</td>\n",
       "      <td>22.410667</td>\n",
       "      <td>22.586666</td>\n",
       "      <td>22.489332</td>\n",
       "      <td>67375500.0</td>\n",
       "      <td>22.489332</td>\n",
       "      <td>NaN</td>\n",
       "    </tr>\n",
       "    <tr>\n",
       "      <th>2017-10-25</th>\n",
       "      <td>22.500000</td>\n",
       "      <td>21.570667</td>\n",
       "      <td>22.446667</td>\n",
       "      <td>21.722668</td>\n",
       "      <td>128911500.0</td>\n",
       "      <td>21.722668</td>\n",
       "      <td>NaN</td>\n",
       "    </tr>\n",
       "    <tr>\n",
       "      <th>2017-10-26</th>\n",
       "      <td>22.015333</td>\n",
       "      <td>21.546667</td>\n",
       "      <td>21.851999</td>\n",
       "      <td>21.744667</td>\n",
       "      <td>75352500.0</td>\n",
       "      <td>21.744667</td>\n",
       "      <td>NaN</td>\n",
       "    </tr>\n",
       "    <tr>\n",
       "      <th>2017-10-27</th>\n",
       "      <td>21.639334</td>\n",
       "      <td>21.110666</td>\n",
       "      <td>21.316668</td>\n",
       "      <td>21.391333</td>\n",
       "      <td>104695500.0</td>\n",
       "      <td>21.391333</td>\n",
       "      <td>NaN</td>\n",
       "    </tr>\n",
       "    <tr>\n",
       "      <th>2017-10-30</th>\n",
       "      <td>21.585333</td>\n",
       "      <td>21.150000</td>\n",
       "      <td>21.278667</td>\n",
       "      <td>21.338667</td>\n",
       "      <td>63816000.0</td>\n",
       "      <td>21.338667</td>\n",
       "      <td>NaN</td>\n",
       "    </tr>\n",
       "    <tr>\n",
       "      <th>2017-10-31</th>\n",
       "      <td>22.129999</td>\n",
       "      <td>21.345333</td>\n",
       "      <td>21.348667</td>\n",
       "      <td>22.101999</td>\n",
       "      <td>85084500.0</td>\n",
       "      <td>22.101999</td>\n",
       "      <td>NaN</td>\n",
       "    </tr>\n",
       "    <tr>\n",
       "      <th>2017-11-01</th>\n",
       "      <td>22.174000</td>\n",
       "      <td>21.350668</td>\n",
       "      <td>22.150000</td>\n",
       "      <td>21.405333</td>\n",
       "      <td>126859500.0</td>\n",
       "      <td>21.405333</td>\n",
       "      <td>NaN</td>\n",
       "    </tr>\n",
       "    <tr>\n",
       "      <th>2017-11-02</th>\n",
       "      <td>20.579332</td>\n",
       "      <td>19.508667</td>\n",
       "      <td>20.008667</td>\n",
       "      <td>19.950666</td>\n",
       "      <td>296871000.0</td>\n",
       "      <td>19.950666</td>\n",
       "      <td>NaN</td>\n",
       "    </tr>\n",
       "    <tr>\n",
       "      <th>2017-11-03</th>\n",
       "      <td>20.416668</td>\n",
       "      <td>19.675333</td>\n",
       "      <td>19.966667</td>\n",
       "      <td>20.406000</td>\n",
       "      <td>133410000.0</td>\n",
       "      <td>20.406000</td>\n",
       "      <td>NaN</td>\n",
       "    </tr>\n",
       "    <tr>\n",
       "      <th>2017-11-06</th>\n",
       "      <td>20.500000</td>\n",
       "      <td>19.934000</td>\n",
       "      <td>20.466667</td>\n",
       "      <td>20.185333</td>\n",
       "      <td>97290000.0</td>\n",
       "      <td>20.185333</td>\n",
       "      <td>NaN</td>\n",
       "    </tr>\n",
       "    <tr>\n",
       "      <th>2017-11-07</th>\n",
       "      <td>20.433332</td>\n",
       "      <td>20.002001</td>\n",
       "      <td>20.068001</td>\n",
       "      <td>20.403334</td>\n",
       "      <td>79414500.0</td>\n",
       "      <td>20.403334</td>\n",
       "      <td>NaN</td>\n",
       "    </tr>\n",
       "    <tr>\n",
       "      <th>2017-11-08</th>\n",
       "      <td>20.459333</td>\n",
       "      <td>20.086666</td>\n",
       "      <td>20.366667</td>\n",
       "      <td>20.292667</td>\n",
       "      <td>70879500.0</td>\n",
       "      <td>20.292667</td>\n",
       "      <td>NaN</td>\n",
       "    </tr>\n",
       "    <tr>\n",
       "      <th>2017-11-09</th>\n",
       "      <td>20.297333</td>\n",
       "      <td>19.753332</td>\n",
       "      <td>20.166668</td>\n",
       "      <td>20.199333</td>\n",
       "      <td>81706500.0</td>\n",
       "      <td>20.199333</td>\n",
       "      <td>NaN</td>\n",
       "    </tr>\n",
       "    <tr>\n",
       "      <th>2017-11-10</th>\n",
       "      <td>20.557333</td>\n",
       "      <td>20.123333</td>\n",
       "      <td>20.166668</td>\n",
       "      <td>20.199333</td>\n",
       "      <td>69381000.0</td>\n",
       "      <td>20.199333</td>\n",
       "      <td>NaN</td>\n",
       "    </tr>\n",
       "    <tr>\n",
       "      <th>2017-11-13</th>\n",
       "      <td>21.120001</td>\n",
       "      <td>19.940666</td>\n",
       "      <td>20.008667</td>\n",
       "      <td>21.026667</td>\n",
       "      <td>113773500.0</td>\n",
       "      <td>21.026667</td>\n",
       "      <td>NaN</td>\n",
       "    </tr>\n",
       "    <tr>\n",
       "      <th>2017-11-14</th>\n",
       "      <td>21.090000</td>\n",
       "      <td>20.459999</td>\n",
       "      <td>21.000000</td>\n",
       "      <td>20.580000</td>\n",
       "      <td>85141500.0</td>\n",
       "      <td>20.580000</td>\n",
       "      <td>NaN</td>\n",
       "    </tr>\n",
       "    <tr>\n",
       "      <th>2017-11-15</th>\n",
       "      <td>20.832666</td>\n",
       "      <td>20.100000</td>\n",
       "      <td>20.400667</td>\n",
       "      <td>20.753332</td>\n",
       "      <td>89680500.0</td>\n",
       "      <td>20.753332</td>\n",
       "      <td>NaN</td>\n",
       "    </tr>\n",
       "    <tr>\n",
       "      <th>2017-11-16</th>\n",
       "      <td>21.209333</td>\n",
       "      <td>20.753332</td>\n",
       "      <td>20.932667</td>\n",
       "      <td>20.833332</td>\n",
       "      <td>87331500.0</td>\n",
       "      <td>20.833332</td>\n",
       "      <td>NaN</td>\n",
       "    </tr>\n",
       "    <tr>\n",
       "      <th>2017-11-17</th>\n",
       "      <td>21.778000</td>\n",
       "      <td>20.876667</td>\n",
       "      <td>21.711332</td>\n",
       "      <td>21.003332</td>\n",
       "      <td>206026500.0</td>\n",
       "      <td>21.003332</td>\n",
       "      <td>NaN</td>\n",
       "    </tr>\n",
       "    <tr>\n",
       "      <th>2017-11-20</th>\n",
       "      <td>21.033333</td>\n",
       "      <td>20.316668</td>\n",
       "      <td>20.919333</td>\n",
       "      <td>20.582666</td>\n",
       "      <td>123715500.0</td>\n",
       "      <td>20.582666</td>\n",
       "      <td>NaN</td>\n",
       "    </tr>\n",
       "    <tr>\n",
       "      <th>2017-11-21</th>\n",
       "      <td>21.215334</td>\n",
       "      <td>20.580667</td>\n",
       "      <td>20.724001</td>\n",
       "      <td>21.187332</td>\n",
       "      <td>108919500.0</td>\n",
       "      <td>21.187332</td>\n",
       "      <td>NaN</td>\n",
       "    </tr>\n",
       "    <tr>\n",
       "      <th>2017-11-22</th>\n",
       "      <td>21.161333</td>\n",
       "      <td>20.789333</td>\n",
       "      <td>21.118000</td>\n",
       "      <td>20.840000</td>\n",
       "      <td>73764000.0</td>\n",
       "      <td>20.840000</td>\n",
       "      <td>NaN</td>\n",
       "    </tr>\n",
       "    <tr>\n",
       "      <th>2017-11-24</th>\n",
       "      <td>21.094000</td>\n",
       "      <td>20.733334</td>\n",
       "      <td>20.919333</td>\n",
       "      <td>21.036667</td>\n",
       "      <td>48661500.0</td>\n",
       "      <td>21.036667</td>\n",
       "      <td>NaN</td>\n",
       "    </tr>\n",
       "    <tr>\n",
       "      <th>2017-11-27</th>\n",
       "      <td>21.156000</td>\n",
       "      <td>20.634001</td>\n",
       "      <td>20.883333</td>\n",
       "      <td>21.120667</td>\n",
       "      <td>68338500.0</td>\n",
       "      <td>21.120667</td>\n",
       "      <td>23.731333</td>\n",
       "    </tr>\n",
       "    <tr>\n",
       "      <th>2017-11-28</th>\n",
       "      <td>21.333332</td>\n",
       "      <td>20.927999</td>\n",
       "      <td>21.090668</td>\n",
       "      <td>21.170000</td>\n",
       "      <td>74242500.0</td>\n",
       "      <td>21.170000</td>\n",
       "      <td>23.731333</td>\n",
       "    </tr>\n",
       "    <tr>\n",
       "      <th>2017-11-29</th>\n",
       "      <td>21.200001</td>\n",
       "      <td>20.082001</td>\n",
       "      <td>21.153334</td>\n",
       "      <td>20.502666</td>\n",
       "      <td>131511000.0</td>\n",
       "      <td>20.502666</td>\n",
       "      <td>23.731333</td>\n",
       "    </tr>\n",
       "    <tr>\n",
       "      <th>2017-11-30</th>\n",
       "      <td>20.713333</td>\n",
       "      <td>20.302668</td>\n",
       "      <td>20.570667</td>\n",
       "      <td>20.590000</td>\n",
       "      <td>65274000.0</td>\n",
       "      <td>20.590000</td>\n",
       "      <td>23.704000</td>\n",
       "    </tr>\n",
       "  </tbody>\n",
       "</table>\n",
       "</div>"
      ],
      "text/plain": [
       "                 High        Low       Open      Close       Volume  \\\n",
       "Date                                                                  \n",
       "2017-10-16  23.632000  23.143999  23.584000  23.373333   80632500.0   \n",
       "2017-10-17  23.747999  23.337999  23.393999  23.716667   49399500.0   \n",
       "2017-10-18  24.200001  23.608667  23.731333  23.976667   74086500.0   \n",
       "2017-10-19  23.809999  23.213333  23.704000  23.454000   75927000.0   \n",
       "2017-10-20  23.636667  22.955999  23.512667  23.006666   73956000.0   \n",
       "2017-10-23  23.330000  22.416668  23.325333  22.468000   86209500.0   \n",
       "2017-10-24  22.853333  22.410667  22.586666  22.489332   67375500.0   \n",
       "2017-10-25  22.500000  21.570667  22.446667  21.722668  128911500.0   \n",
       "2017-10-26  22.015333  21.546667  21.851999  21.744667   75352500.0   \n",
       "2017-10-27  21.639334  21.110666  21.316668  21.391333  104695500.0   \n",
       "2017-10-30  21.585333  21.150000  21.278667  21.338667   63816000.0   \n",
       "2017-10-31  22.129999  21.345333  21.348667  22.101999   85084500.0   \n",
       "2017-11-01  22.174000  21.350668  22.150000  21.405333  126859500.0   \n",
       "2017-11-02  20.579332  19.508667  20.008667  19.950666  296871000.0   \n",
       "2017-11-03  20.416668  19.675333  19.966667  20.406000  133410000.0   \n",
       "2017-11-06  20.500000  19.934000  20.466667  20.185333   97290000.0   \n",
       "2017-11-07  20.433332  20.002001  20.068001  20.403334   79414500.0   \n",
       "2017-11-08  20.459333  20.086666  20.366667  20.292667   70879500.0   \n",
       "2017-11-09  20.297333  19.753332  20.166668  20.199333   81706500.0   \n",
       "2017-11-10  20.557333  20.123333  20.166668  20.199333   69381000.0   \n",
       "2017-11-13  21.120001  19.940666  20.008667  21.026667  113773500.0   \n",
       "2017-11-14  21.090000  20.459999  21.000000  20.580000   85141500.0   \n",
       "2017-11-15  20.832666  20.100000  20.400667  20.753332   89680500.0   \n",
       "2017-11-16  21.209333  20.753332  20.932667  20.833332   87331500.0   \n",
       "2017-11-17  21.778000  20.876667  21.711332  21.003332  206026500.0   \n",
       "2017-11-20  21.033333  20.316668  20.919333  20.582666  123715500.0   \n",
       "2017-11-21  21.215334  20.580667  20.724001  21.187332  108919500.0   \n",
       "2017-11-22  21.161333  20.789333  21.118000  20.840000   73764000.0   \n",
       "2017-11-24  21.094000  20.733334  20.919333  21.036667   48661500.0   \n",
       "2017-11-27  21.156000  20.634001  20.883333  21.120667   68338500.0   \n",
       "2017-11-28  21.333332  20.927999  21.090668  21.170000   74242500.0   \n",
       "2017-11-29  21.200001  20.082001  21.153334  20.502666  131511000.0   \n",
       "2017-11-30  20.713333  20.302668  20.570667  20.590000   65274000.0   \n",
       "\n",
       "            Adj Close  open:30 days rolling  \n",
       "Date                                         \n",
       "2017-10-16  23.373333                   NaN  \n",
       "2017-10-17  23.716667                   NaN  \n",
       "2017-10-18  23.976667                   NaN  \n",
       "2017-10-19  23.454000                   NaN  \n",
       "2017-10-20  23.006666                   NaN  \n",
       "2017-10-23  22.468000                   NaN  \n",
       "2017-10-24  22.489332                   NaN  \n",
       "2017-10-25  21.722668                   NaN  \n",
       "2017-10-26  21.744667                   NaN  \n",
       "2017-10-27  21.391333                   NaN  \n",
       "2017-10-30  21.338667                   NaN  \n",
       "2017-10-31  22.101999                   NaN  \n",
       "2017-11-01  21.405333                   NaN  \n",
       "2017-11-02  19.950666                   NaN  \n",
       "2017-11-03  20.406000                   NaN  \n",
       "2017-11-06  20.185333                   NaN  \n",
       "2017-11-07  20.403334                   NaN  \n",
       "2017-11-08  20.292667                   NaN  \n",
       "2017-11-09  20.199333                   NaN  \n",
       "2017-11-10  20.199333                   NaN  \n",
       "2017-11-13  21.026667                   NaN  \n",
       "2017-11-14  20.580000                   NaN  \n",
       "2017-11-15  20.753332                   NaN  \n",
       "2017-11-16  20.833332                   NaN  \n",
       "2017-11-17  21.003332                   NaN  \n",
       "2017-11-20  20.582666                   NaN  \n",
       "2017-11-21  21.187332                   NaN  \n",
       "2017-11-22  20.840000                   NaN  \n",
       "2017-11-24  21.036667                   NaN  \n",
       "2017-11-27  21.120667             23.731333  \n",
       "2017-11-28  21.170000             23.731333  \n",
       "2017-11-29  20.502666             23.731333  \n",
       "2017-11-30  20.590000             23.704000  "
      ]
     },
     "execution_count": 83,
     "metadata": {},
     "output_type": "execute_result"
    }
   ],
   "source": [
    "df_tesla.head(33)"
   ]
  },
  {
   "cell_type": "code",
   "execution_count": 87,
   "id": "022f1e0c",
   "metadata": {},
   "outputs": [
    {
     "data": {
      "text/plain": [
       "<AxesSubplot:xlabel='Date'>"
      ]
     },
     "execution_count": 87,
     "metadata": {},
     "output_type": "execute_result"
    },
    {
     "data": {
      "image/png": "[encoded data removed]",
      "text/plain": [
       "<Figure size 864x360 with 1 Axes>"
      ]
     },
     "metadata": {
      "needs_background": "light"
     },
     "output_type": "display_data"
    }
   ],
   "source": [
    "df_tesla[['Open','open:30 days rolling']].plot(figsize=(12,5))"
   ]
  },
  {
   "cell_type": "code",
   "execution_count": null,
   "id": "bcfe3875",
   "metadata": {},
   "outputs": [],
   "source": []
  }
 ],
 "metadata": {
  "kernelspec": {
   "display_name": "Python 3 (ipykernel)",
   "language": "python",
   "name": "python3"
  },
  "language_info": {
   "codemirror_mode": {
    "name": "ipython",
    "version": 3
   },
   "file_extension": ".py",
   "mimetype": "text/x-python",
   "name": "python",
   "nbconvert_exporter": "python",
   "pygments_lexer": "ipython3",
   "version": "3.9.12"
  }
 },
 "nbformat": 4,
 "nbformat_minor": 5
}
